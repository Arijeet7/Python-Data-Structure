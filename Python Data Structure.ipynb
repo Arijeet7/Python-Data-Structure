{
 "cells": [
  {
   "cell_type": "markdown",
   "id": "09be7ddd-609c-4e89-871e-6b9b7936bce5",
   "metadata": {},
   "source": [
    "1.\tWhat are data structures, and why are they important?\n",
    "Answer:- Data structures in Python are built-in types like lists, tuples, sets, and dictionaries used to store and organize data efficiently. They are important because they help in writing faster, cleaner, and more efficient code.\n",
    "\n",
    "2.\tExplain the difference between mutable and immutable data types with examples?\n",
    "Answer:- Mutable data type: Here we can modify, add, or remove elements.\n",
    "Examples:- List, Dictionary, Set\n",
    "Immutable data type: Once created, their contents cannot be changed.\n",
    "Examples:- Tuple, String, Integer, Float, Boolean\n",
    "3.\tWhat are the main differences between lists and tuples in Python?\n",
    "Answer:- Main differences between lists and tuples in Python:\n",
    "    \t                   List\t                                        Tuple\n",
    "Mutability\t      Mutable (can be changed)\t                  Immutable (cannot be changed)\n",
    "Syntax\t          [1, 2, 3]\t                                  (1, 2, 3)\n",
    "Use case\t      When data can change\t                      When data should not change\n",
    "\t\t\n",
    "4.\tDescribe how dictionaries store data.\n",
    "Answer:- Dictionaries store data as key-value pairs using a hash table, where each key (immutable) maps to a value for fast access.\n",
    "\n",
    "5.\tWhy might you use a set instead of a list in Python?\n",
    "Answer:- Using a set instead of a list because it keep unique elements which means removes all the duplicate values also have a faster membership checks.\n",
    "\n",
    "6.\tWhat is a string in Python, and how is it different from a list?\n",
    "Answer:- A string in Python is a sequence of characters used to represent text.\n",
    "The difference from a list is that a string is immutable, while a list is mutable. Also, strings store only characters, but lists can store any type of data.\n",
    "\n",
    "7.\tHow do tuples ensure data integrity in Python?\n",
    "Answer:- Tuples ensure data integrity in Python because they are immutable, meaning once created, their contents cannot be changed. This prevents accidental modification of the data stored in a tuple.\n",
    "\n",
    "8.\tWhat is a hash table, and how does it relate to dictionaries in Python?\n",
    "Answer:- A hash table is a data structure that stores data using key-value pairs, where each key is processed by a hash function to compute an index. This allows for fast data retrieval.\n",
    "In Python, dictionaries are implemented using hash tables. When you add a key-value pair to a dictionary, the key is hashed to find the storage location, enabling quick access, insertion, and deletion of values.\n",
    "\n",
    "9.\tCan lists contain different data types in Python?\n",
    "Answer:- Lists are heterogeneous, meaning they can store a mix of data types like integers, strings, floats, objects, etc. So, yes lists in Python can contain different data types in the same list.\n",
    "\n",
    "10.\tExplain why strings are immutable in Python.\n",
    "Answer:- Strings are immutable in Python to ensure safety, efficiency, and consistency. Because they cannot be changed after creation. They can be safely shared across different parts of a program without unexpected changes. It prevents bugs caused by accidental modification of text data. This immutability also allows strings to be used as keys in dictionaries and elements in sets.\n",
    "\n",
    "11.\tWhat advantages do dictionaries offer over lists for certain tasks?\n",
    "Answer:- Dictionaries provide faster lookups, store data as key-value pairs, allow access by unique keys instead of positions, and avoid duplicates, advantages over lists for many tasks.\n",
    "\n",
    "12.\tDescribe a scenario where using a tuple would be preferable over a list.\n",
    "Answer:- Use a tuple instead of a list when you have a fixed set of values that should not change, like representing a point’s coordinates (x, y) or storing configuration settings that must remain constant.\n",
    "\n",
    "13.\tHow do sets handle duplicate values in Python?\n",
    "Answer:- In Python, sets automatically remove duplicate values. When you add elements to a set, any duplicates are ignored, so each value appears only once.\n",
    "\n",
    "14.\tHow does the “in” keyword work differently for lists and dictionaries?\n",
    "Answer:- For lists, the “in” keyword checks if a value exists anywhere in the list by scanning each element.\n",
    "For dictionaries, “in checks if a key exists in the dictionary, not the values.\n",
    "\n",
    "15.\tCan you modify the elements of a tuple? Explain why or why not.\n",
    "Answer:- No, you cannot modify the elements of a tuple because tuples are immutable in Python. Once a tuple is created, its contents cannot be changed, added, or removed. This ensures the data remains constant throughout the program.\n",
    "\n",
    "16.\tWhat is a nested dictionary, and give an example of its use case?\n",
    "Answer:- A nested dictionary is a dictionary where some values are themselves dictionaries. This allows you to represent more complex, hierarchical data.\n",
    "Example:- student data\n",
    "students = {\n",
    "    \"Alice\": {\"Math\": 85, \"English\": 92}, \"Bob\": {\"Math\": 78, \"Science\": 88}\n",
    "}\n",
    "\n",
    "17.\tDescribe the time complexity of accessing elements in a dictionary.\n",
    "Answer:- Accessing elements in a Python dictionary has an average time complexity of O(1).\n",
    "\n",
    "18.\tIn what situations are lists preferred over dictionaries?\n",
    "Answer:- Lists are preferred over dictionaries when you need ordered data, allow duplicates, store only values, or access elements by position.\n",
    "\n",
    "19.\tWhy are dictionaries considered unordered, and how does that affect data retrieval?\n",
    "Answer:- Dictionaries were considered unordered before Python 3.7 because they didn’t preserve the insertion order of items. Starting with Python 3.7+, dictionaries preserve insertion order, but they are still primarily designed for key-based access, not position-based access. This means data is retrieved by key, not by the order in which it was added.\n",
    "\n",
    "20.\tExplain the difference between a list and a dictionary in terms of data retrieval.\n",
    "Answer:- A list retrieves data by index (e.g., list[0]), while a dictionary retrieves data by key (e.g., dict[\"key\"])."
   ]
  },
  {
   "cell_type": "code",
   "execution_count": 2,
   "id": "8ad1abbd-6ec7-4416-b2e5-a54f93213e54",
   "metadata": {},
   "outputs": [
    {
     "name": "stdout",
     "output_type": "stream",
     "text": [
      "My name is Arijeet\n"
     ]
    }
   ],
   "source": [
    "#1 Write a code to create a string with your name and print it.\n",
    "name = \"Arijeet\"\n",
    "print(\"My name is\", name)"
   ]
  },
  {
   "cell_type": "code",
   "execution_count": 3,
   "id": "258e3b12-a11e-46ec-bb98-3b738c417d5f",
   "metadata": {},
   "outputs": [
    {
     "name": "stdout",
     "output_type": "stream",
     "text": [
      "11\n"
     ]
    }
   ],
   "source": [
    "#2 Write a code to find the length of the string \"Hello World\".\n",
    "text = \"Hello World\"\n",
    "length = len(text)\n",
    "print(length)"
   ]
  },
  {
   "cell_type": "code",
   "execution_count": 4,
   "id": "0fd80199-c27c-49fa-a255-60332cb0ae03",
   "metadata": {},
   "outputs": [
    {
     "name": "stdout",
     "output_type": "stream",
     "text": [
      "Pyt\n"
     ]
    }
   ],
   "source": [
    "#3 Write a code to slice the first 3 characters from the string \"Python Programming\".\n",
    "my_string = \"Python Programming\"\n",
    "sliced_string = my_string[:3]\n",
    "print(sliced_string)"
   ]
  },
  {
   "cell_type": "code",
   "execution_count": 5,
   "id": "87ad59bd-1c45-449a-a4b1-cfb1624ddd0d",
   "metadata": {},
   "outputs": [
    {
     "name": "stdout",
     "output_type": "stream",
     "text": [
      "HELLO\n"
     ]
    }
   ],
   "source": [
    "#4 Write a code to convert the string \"hello\" to uppercase.\n",
    "my_string = \"hello\"\n",
    "uppercase_string = my_string.upper()\n",
    "print(uppercase_string)"
   ]
  },
  {
   "cell_type": "code",
   "execution_count": 6,
   "id": "614cec5f-c3fd-45ad-a330-218e932f5f9d",
   "metadata": {},
   "outputs": [
    {
     "name": "stdout",
     "output_type": "stream",
     "text": [
      "I like orange\n"
     ]
    }
   ],
   "source": [
    "#5 Write a code to replace the word \"apple\" with \"orange\" in the string \"I like apple\".\n",
    "a = \"I like apple\"\n",
    "b = a.replace(\"apple\", \"orange\")\n",
    "print(b)"
   ]
  },
  {
   "cell_type": "code",
   "execution_count": 7,
   "id": "d9784348-756c-4248-b501-fd5e83410858",
   "metadata": {},
   "outputs": [
    {
     "name": "stdout",
     "output_type": "stream",
     "text": [
      "[1, 2, 3, 4, 5]\n"
     ]
    }
   ],
   "source": [
    "#6 Write a code to create a list with numbers 1 to 5 and print it.\n",
    "numbers = list(range(1, 6))\n",
    "print(numbers)"
   ]
  },
  {
   "cell_type": "code",
   "execution_count": 8,
   "id": "7bd2440a-1c7f-4eb6-b5e8-e08de44f37e3",
   "metadata": {},
   "outputs": [
    {
     "name": "stdout",
     "output_type": "stream",
     "text": [
      "[1, 2, 3, 4, 10]\n"
     ]
    }
   ],
   "source": [
    "#7 Write a code to append the number 10 to the list [1, 2, 3, 4].\n",
    "numbers = [1, 2, 3, 4]\n",
    "numbers.append(10)\n",
    "print(numbers)"
   ]
  },
  {
   "cell_type": "code",
   "execution_count": 9,
   "id": "ed7ddaf6-b143-4a98-bfb4-b0bf67d0d9d3",
   "metadata": {},
   "outputs": [
    {
     "name": "stdout",
     "output_type": "stream",
     "text": [
      "[1, 2, 4, 5]\n"
     ]
    }
   ],
   "source": [
    "#8 Write a code to remove the number 3 from the list [1, 2, 3, 4, 5].\n",
    "a = [1, 2, 3, 4, 5]\n",
    "a.remove(3)\n",
    "print(a)"
   ]
  },
  {
   "cell_type": "code",
   "execution_count": 10,
   "id": "43e81c10-348e-4c78-b840-a1597246b24a",
   "metadata": {},
   "outputs": [
    {
     "name": "stdout",
     "output_type": "stream",
     "text": [
      "b\n"
     ]
    }
   ],
   "source": [
    "#9 Write a code to access the second element in the list ['a', 'b', 'c', 'd].\n",
    "my_list = ['a', 'b', 'c', 'd']\n",
    "second_element = my_list[1]\n",
    "print(second_element)"
   ]
  },
  {
   "cell_type": "code",
   "execution_count": 11,
   "id": "c9d6f1d8-0b85-46ac-9adb-aac69923215f",
   "metadata": {},
   "outputs": [
    {
     "name": "stdout",
     "output_type": "stream",
     "text": [
      "[50, 40, 30, 20, 10]\n"
     ]
    }
   ],
   "source": [
    "#10 Write a code to reverse the list [10, 20, 30, 40, 50].\n",
    "number = [10, 20, 30, 40, 50]\n",
    "number.reverse()\n",
    "print(number)"
   ]
  },
  {
   "cell_type": "code",
   "execution_count": 3,
   "id": "9aa0ce4b-2b3b-4624-9a65-e30e0728572c",
   "metadata": {},
   "outputs": [
    {
     "name": "stdout",
     "output_type": "stream",
     "text": [
      "(100, 200, 300)\n"
     ]
    }
   ],
   "source": [
    "#11 Write a code to create a tuple with the elements 100, 200, 300 and print it.\n",
    "my_tuple = (100, 200, 300)\n",
    "print(my_tuple)"
   ]
  },
  {
   "cell_type": "code",
   "execution_count": 4,
   "id": "734fd160-1eca-4658-bb1c-638b193a62d5",
   "metadata": {},
   "outputs": [
    {
     "name": "stdout",
     "output_type": "stream",
     "text": [
      "blue\n"
     ]
    }
   ],
   "source": [
    "#12 Write a code to access the second-to-last element of the tuple ('red', 'green', 'blue', 'yellow').\n",
    "my_tuple = ('red', 'green', 'blue', 'yellow')\n",
    "second_to_last_element = my_tuple[-2]\n",
    "print(second_to_last_element)"
   ]
  },
  {
   "cell_type": "code",
   "execution_count": 5,
   "id": "999724e1-dbe7-4f4e-a918-d914db0e4267",
   "metadata": {},
   "outputs": [
    {
     "name": "stdout",
     "output_type": "stream",
     "text": [
      "5\n"
     ]
    }
   ],
   "source": [
    "#13 Write a code to find the minimum number in the tuple (10, 20, 5, 15).\n",
    "my_tuple = (10, 20, 5, 15)\n",
    "minimum_number = min(my_tuple)\n",
    "print(minimum_number)"
   ]
  },
  {
   "cell_type": "code",
   "execution_count": 6,
   "id": "7732c018-4bbf-47a7-b3bb-d66e163198c1",
   "metadata": {},
   "outputs": [
    {
     "name": "stdout",
     "output_type": "stream",
     "text": [
      "1\n"
     ]
    }
   ],
   "source": [
    "#14 Write a code to find the index of the element \"cat\" in the tuple ('dog', 'cat', 'rabbit').\n",
    "animals = ('dog', 'cat', 'rabbit')\n",
    "index_of_cat = animals.index('cat')\n",
    "print(index_of_cat)"
   ]
  },
  {
   "cell_type": "code",
   "execution_count": 7,
   "id": "2be12eb6-726e-4c1f-8f66-e495ff90a114",
   "metadata": {},
   "outputs": [
    {
     "name": "stdout",
     "output_type": "stream",
     "text": [
      "Kiwi is not in the tuple.\n"
     ]
    }
   ],
   "source": [
    "#15 Write a code to create a tuple containing three different fruits and check if \"kiwi\" is in it.\n",
    "a = ('apple', 'banana', 'orange')\n",
    "if \"kiwi\" in a:\n",
    "  print(\"Kiwi is in the tuple.\")\n",
    "else:\n",
    "  print(\"Kiwi is not in the tuple.\")"
   ]
  },
  {
   "cell_type": "code",
   "execution_count": 8,
   "id": "a96439fc-6bfd-4b28-9c0e-da4d595301bd",
   "metadata": {},
   "outputs": [
    {
     "name": "stdout",
     "output_type": "stream",
     "text": [
      "{'c', 'a', 'b'}\n"
     ]
    }
   ],
   "source": [
    "#16 Write a code to create a set with the elements 'a', 'b', 'c' and print it.\n",
    "my_set = {'a', 'b', 'c'}\n",
    "print(my_set)"
   ]
  },
  {
   "cell_type": "code",
   "execution_count": 9,
   "id": "89cf0239-f055-4a4b-b8fe-1fa3ae9a48af",
   "metadata": {},
   "outputs": [
    {
     "name": "stdout",
     "output_type": "stream",
     "text": [
      "set()\n"
     ]
    }
   ],
   "source": [
    "#17 Write a code to clear all elements from the set {1, 2, 3, 4, 5}.\n",
    "my_set = {1, 2, 3, 4, 5}\n",
    "my_set.clear()\n",
    "print(my_set)"
   ]
  },
  {
   "cell_type": "code",
   "execution_count": 11,
   "id": "5a501cd9-8c70-4e1a-a540-f3b4fcd49212",
   "metadata": {},
   "outputs": [
    {
     "name": "stdout",
     "output_type": "stream",
     "text": [
      "{1, 2, 3}\n"
     ]
    }
   ],
   "source": [
    "#18 Write a code to remove the element 4 from the set {1, 2, 3, 4}.\n",
    "my_set = {1, 2, 3, 4}\n",
    "my_set.remove(4)\n",
    "print(my_set)"
   ]
  },
  {
   "cell_type": "code",
   "execution_count": 12,
   "id": "ff68aa40-7f9d-49ef-89e3-9fa1f8724f75",
   "metadata": {},
   "outputs": [
    {
     "name": "stdout",
     "output_type": "stream",
     "text": [
      "{1, 2, 3, 4, 5}\n"
     ]
    }
   ],
   "source": [
    "#19 Write a code to find the union of two sets {1, 2, 3} and {3, 4, 5}.\n",
    "set1 = {1, 2, 3}\n",
    "set2 = {3, 4, 5}\n",
    "union_set = set1 | set2\n",
    "print(union_set)"
   ]
  },
  {
   "cell_type": "code",
   "execution_count": 13,
   "id": "95a41110-21dc-443f-ab6b-ea8e6e5dd52c",
   "metadata": {},
   "outputs": [
    {
     "name": "stdout",
     "output_type": "stream",
     "text": [
      "{2, 3}\n"
     ]
    }
   ],
   "source": [
    "#20 Write a code to find the intersection of two sets {1, 2, 3} and {2, 3, 4}.\n",
    "set1 = {1, 2, 3}\n",
    "set2 = {2, 3, 4}\n",
    "intersection_set = set1 & set2\n",
    "print(intersection_set)"
   ]
  },
  {
   "cell_type": "code",
   "execution_count": 17,
   "id": "340d46af-d728-40e8-bc1c-eeee39937eba",
   "metadata": {},
   "outputs": [
    {
     "name": "stdout",
     "output_type": "stream",
     "text": [
      "{'name': 'Arijeet', 'age': 28, 'city': 'Bhubaneswar'}\n"
     ]
    }
   ],
   "source": [
    "#21 Write a code to create a dictionary with the keys \"name\", \"age\", and \"city\", and print it.\n",
    "my_dict = {\n",
    "    \"name\": \"Arijeet\",\n",
    "    \"age\": 28,\n",
    "    \"city\": \"Bhubaneswar\"\n",
    "}\n",
    "print(my_dict)"
   ]
  },
  {
   "cell_type": "code",
   "execution_count": 18,
   "id": "a1334775-ac48-4b5a-b4b2-5f322dda0fda",
   "metadata": {},
   "outputs": [
    {
     "name": "stdout",
     "output_type": "stream",
     "text": [
      "{'name': 'John', 'age': 25, 'country': 'USA'}\n"
     ]
    }
   ],
   "source": [
    "#22 Write a code to add a new key-value pair \"country\": \"USA\" to the dictionary {'name': 'John', 'age': 25}.\n",
    "a = {'name': 'John', 'age': 25}\n",
    "a[\"country\"] = \"USA\"\n",
    "print(a)"
   ]
  },
  {
   "cell_type": "code",
   "execution_count": 21,
   "id": "dc956ed9-459a-4ef3-9371-f56059e1f553",
   "metadata": {},
   "outputs": [
    {
     "name": "stdout",
     "output_type": "stream",
     "text": [
      "Alice\n"
     ]
    }
   ],
   "source": [
    "#23 Write a code to access the value associated with the key \"name\" in the dictionary {'name': 'Alice', 'age': 30}.\n",
    "a = {'name': 'Alice', 'age': 30}\n",
    "b = a[\"name\"]\n",
    "print(b)"
   ]
  },
  {
   "cell_type": "code",
   "execution_count": 22,
   "id": "c128ada7-2bf7-447a-97ac-2ac1e0dd0e65",
   "metadata": {},
   "outputs": [
    {
     "name": "stdout",
     "output_type": "stream",
     "text": [
      "{'name': 'Bob', 'city': 'New York'}\n"
     ]
    }
   ],
   "source": [
    "#24 Write a code to remove the key \"age\" from the dictionary {'name': 'Bob', 'age': 22, 'city': 'New York'}.\n",
    "my_dict = {'name': 'Bob', 'age': 22, 'city': 'New York'}\n",
    "del my_dict[\"age\"]\n",
    "print(my_dict)"
   ]
  },
  {
   "cell_type": "code",
   "execution_count": 23,
   "id": "3de9fe47-b2f0-4fc0-bc32-7787dd8813de",
   "metadata": {},
   "outputs": [
    {
     "name": "stdout",
     "output_type": "stream",
     "text": [
      "The key 'city' exists in the dictionary.\n"
     ]
    }
   ],
   "source": [
    "#25 Write a code to check if the key \"city\" exists in the dictionary {'name': 'Alice', 'city': 'Paris'}.\n",
    "my_dict = {'name': 'Alice', 'city': 'Paris'}\n",
    "if \"city\" in my_dict:\n",
    "  print(\"The key 'city' exists in the dictionary.\")\n",
    "else:\n",
    "  print(\"The key 'city' does not exist in the dictionary.\")"
   ]
  },
  {
   "cell_type": "code",
   "execution_count": 25,
   "id": "e802981d-5b58-4923-8902-f4fd3d36e2c2",
   "metadata": {},
   "outputs": [
    {
     "name": "stdout",
     "output_type": "stream",
     "text": [
      "My List: [1, 2, 3, 4, 5]\n",
      "My Tuple: ('a', 'b', 'c')\n",
      "My Dictionary: {'name': 'Arijeet', 'age': 28, 'city': 'Bhubaneswar'}\n"
     ]
    }
   ],
   "source": [
    "#26 Write a code to create a list, a tuple, and a dictionary, and print them all.\n",
    "my_list = [1, 2, 3, 4, 5]\n",
    "my_tuple = ('a', 'b', 'c')\n",
    "my_dict = {\n",
    "    \"name\": \"Arijeet\",\n",
    "    \"age\": 28,\n",
    "    \"city\": \"Bhubaneswar\"\n",
    "}\n",
    "\n",
    "print(\"My List:\", my_list)\n",
    "print(\"My Tuple:\", my_tuple)\n",
    "print(\"My Dictionary:\", my_dict)"
   ]
  },
  {
   "cell_type": "code",
   "execution_count": 26,
   "id": "661ea6d5-9ac5-44ff-97b2-8667891b65f5",
   "metadata": {},
   "outputs": [
    {
     "name": "stdout",
     "output_type": "stream",
     "text": [
      "[5, 8, 21, 36, 54]\n"
     ]
    }
   ],
   "source": [
    "#27 Write a code to create a list of 5 random numbers between 1 and 100, sort it in ascending order, and print the result.\n",
    "import random\n",
    "random_numbers = [random.randint(1, 100) for _ in range(5)]\n",
    "random_numbers.sort()\n",
    "print(random_numbers)"
   ]
  },
  {
   "cell_type": "code",
   "execution_count": 27,
   "id": "245609d9-85ab-4087-8cd2-3390350bbe9a",
   "metadata": {},
   "outputs": [
    {
     "name": "stdout",
     "output_type": "stream",
     "text": [
      "Laptop\n"
     ]
    }
   ],
   "source": [
    "#28 Write a code to create a list with strings and print the element at the third index.\n",
    "a = [\"Phone\", \"Pillow\", \"Mouse\", \"Laptop\", \"Python\"]\n",
    "print(a[3])"
   ]
  },
  {
   "cell_type": "code",
   "execution_count": 29,
   "id": "c496aa33-bfbf-48e2-b46a-32e0d66fabb4",
   "metadata": {},
   "outputs": [
    {
     "name": "stdout",
     "output_type": "stream",
     "text": [
      "{'Name': 'Arijeet', 'Age': 28, 'Hobbie': 'Guitarist', 'Qualification': 'Graduate'}\n"
     ]
    }
   ],
   "source": [
    "#29 Write a code to combine two dictionaries into one and print the result.\n",
    "dict1 = {'Name': \"Arijeet\", 'Age': 28}\n",
    "dict2 = {'Hobbie': \"Guitarist\", 'Qualification': \"Graduate\"}\n",
    "combined_dict = dict1 | dict2\n",
    "print(combined_dict)"
   ]
  },
  {
   "cell_type": "code",
   "execution_count": 30,
   "id": "636b076b-d29e-4218-88c7-4fa090da732d",
   "metadata": {},
   "outputs": [
    {
     "name": "stdout",
     "output_type": "stream",
     "text": [
      "{'apple', 'banana', 'date', 'cherry'}\n"
     ]
    }
   ],
   "source": [
    "#30 Write a code to convert a list of strings into a set.\n",
    "my_list = [\"apple\", \"banana\", \"cherry\", \"date\"]\n",
    "my_set = set(my_list)\n",
    "print(my_set)"
   ]
  },
  {
   "cell_type": "code",
   "execution_count": null,
   "id": "a03bd265-b40e-48b6-afdd-ca69c94e2802",
   "metadata": {},
   "outputs": [],
   "source": []
  }
 ],
 "metadata": {
  "kernelspec": {
   "display_name": "Python 3 (ipykernel)",
   "language": "python",
   "name": "python3"
  },
  "language_info": {
   "codemirror_mode": {
    "name": "ipython",
    "version": 3
   },
   "file_extension": ".py",
   "mimetype": "text/x-python",
   "name": "python",
   "nbconvert_exporter": "python",
   "pygments_lexer": "ipython3",
   "version": "3.13.5"
  }
 },
 "nbformat": 4,
 "nbformat_minor": 5
}
